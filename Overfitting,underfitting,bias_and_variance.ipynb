{
  "nbformat": 4,
  "nbformat_minor": 0,
  "metadata": {
    "colab": {
      "provenance": [],
      "authorship_tag": "ABX9TyNHxfExliAaPzGtrWNbC4dD",
      "include_colab_link": true
    },
    "kernelspec": {
      "name": "python3",
      "display_name": "Python 3"
    },
    "language_info": {
      "name": "python"
    }
  },
  "cells": [
    {
      "cell_type": "markdown",
      "metadata": {
        "id": "view-in-github",
        "colab_type": "text"
      },
      "source": [
        "<a href=\"https://colab.research.google.com/github/Rahul-phyton-code/overfitting-and-underfitting-in-machine-learning/blob/main/Overfitting%2Cunderfitting%2Cbias_and_variance.ipynb\" target=\"_parent\"><img src=\"https://colab.research.google.com/assets/colab-badge.svg\" alt=\"Open In Colab\"/></a>"
      ]
    },
    {
      "cell_type": "markdown",
      "source": [
        "1.)"
      ],
      "metadata": {
        "id": "WEU1dAyjRp7Z"
      }
    },
    {
      "cell_type": "markdown",
      "source": [
        "Overfitting occurs when our machine learning model tries to cover all the data points or more than the required data points present in the given dataset. Because of this, the model starts caching noise and inaccurate values present in the dataset, and all these factors reduce the efficiency and accuracy of the model. The overfitted model has low bias and high variance.\n",
        "\n",
        "The chances of occurrence of overfitting increase as much we provide training to our model. It means the more we train our model, the more chances of occurring the overfitted model.\n",
        "\n",
        "Overfitting is the main problem that occurs in supervised learning\n",
        "\n",
        "How to avoid the Overfitting in Model\n",
        "There are some ways by which we can reduce the occurrence of overfitting in our model.\n",
        "a.)Cross-Validation\n",
        "b.)Training with more data\n",
        "c.)Removing features\n",
        "d.)Early stopping the training\n",
        "e.)Regularization\n",
        "f.)Ensembling"
      ],
      "metadata": {
        "id": "JaRiJumEUVf5"
      }
    },
    {
      "cell_type": "markdown",
      "source": [
        "Underfitting\n",
        "Underfitting occurs when our machine learning model is not able to capture the underlying trend of the data. To avoid the overfitting in the model, the fed of training data can be stopped at an early stage, due to which the model may not learn enough from the training data. As a result, it may fail to find the best fit of the dominant trend in the data.\n",
        "\n",
        "In the case of underfitting, the model is not able to learn enough from the training data, and hence it reduces the accuracy and produces unreliable predictions.\n",
        "\n",
        "An underfitted model has high bias and low variance.\n",
        "\n",
        "How to avoid underfitting:\n",
        "By increasing the training time of the model.\n",
        "By increasing the number of features."
      ],
      "metadata": {
        "id": "0gS1ofUGUQzw"
      }
    },
    {
      "cell_type": "markdown",
      "source": [
        "2.) There are some ways by which we can reduce the occurrence of overfitting in our model. a.)Cross-Validation b.)Training with more data c.)Removing features d.)Early stopping the training e.)Regularization f.)Ensembling"
      ],
      "metadata": {
        "id": "Kig_U_FjYayp"
      }
    },
    {
      "cell_type": "markdown",
      "source": [
        "3.) Underfitting occurs when our machine learning model is not able to capture the underlying trend of the data. To avoid the overfitting in the model, the fed of training data can be stopped at an early stage, due to which the model may not learn enough from the training data. As a result, it may fail to find the best fit of the dominant trend in the data.\n",
        "\n"
      ],
      "metadata": {
        "id": "uFZFJEV7Yd6D"
      }
    },
    {
      "cell_type": "markdown",
      "source": [
        "4.) Variance is the variability of model prediction for a given data point or a value which tells us spread of our data. Model with high variance pays a lot of attention to training data and does not generalize on the data which it hasn’t seen before. As a result, such models perform very well on training data but has high error rates on test data.\n",
        "\n",
        "Bias is the difference between the average prediction of our model and the correct value which we are trying to predict. Model with high bias pays very little attention to the training data and oversimplifies the model. It always leads to high error on training and test data."
      ],
      "metadata": {
        "id": "BlYJeotDbgIf"
      }
    },
    {
      "cell_type": "markdown",
      "source": [
        "5.)  We can determine whether a predictive model is underfitting or overfitting the training data by looking at the prediction error on the training data and the evaluation data."
      ],
      "metadata": {
        "id": "q41GIEIRbqvq"
      }
    },
    {
      "cell_type": "markdown",
      "source": [
        "6.) Bias can emerge in the model of machine learning. When an algorithm generates results that are systematically prejudiced due to some inaccurate assumptions that were made throughout the process of machine learning, this is an example of bias.\n",
        "\n",
        "Bias is analogous to a systematic error. They are presumptions that are made by a model in order to simplify the process of learning the target function.\n",
        "\n",
        "A high bias model has the following characteristics\n",
        "Failure to gather proper data trends.\n",
        "Possibility of having an improper fit.\n",
        "More generic and simplistic in an excessive degree.\n",
        "A high frequency of errors."
      ],
      "metadata": {
        "id": "yK_O-G6RdTAC"
      }
    },
    {
      "cell_type": "markdown",
      "source": [
        "Variance refers to the magnitude of the change that would occur in the estimation of the target function if a different set of training data was utilized. Because a machine learning algorithm infers the target function from the training data, it is reasonable to anticipate that the method will exhibit some degree of variability.\n",
        "\n",
        "A high variance model has the following characteristics −\n",
        "The presence of noise in the data set\n",
        "There is a possibility of overfitting.\n",
        "Complex models.\n",
        "Making an effort to bring all of the data points as close together as possible."
      ],
      "metadata": {
        "id": "pOMynq67dkxf"
      }
    },
    {
      "cell_type": "markdown",
      "source": [
        "7.) Regularization is a technique that penalizes the coefficient. In an overfit model, the coefficients are generally inflated. Thus, Regularization adds penalties to the parameters and avoids them weigh heavily. The coefficients are added to the cost function of the linear equation. Thus, if the coefficient inflates, the cost function will increase. And Linear regression model will try to optimize the coefficient in order to minimize the cost function.\n",
        "\n"
      ],
      "metadata": {
        "id": "qntqjHMYdqGo"
      }
    }
  ]
}